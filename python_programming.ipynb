{
  "nbformat": 4,
  "nbformat_minor": 0,
  "metadata": {
    "colab": {
      "name": "python programming.ipynb",
      "provenance": [],
      "authorship_tag": "ABX9TyMs6DeEwfBnVPRltIlpzQbK",
      "include_colab_link": true
    },
    "kernelspec": {
      "name": "python3",
      "display_name": "Python 3"
    },
    "language_info": {
      "name": "python"
    }
  },
  "cells": [
    {
      "cell_type": "markdown",
      "metadata": {
        "id": "view-in-github",
        "colab_type": "text"
      },
      "source": [
        "<a href=\"https://colab.research.google.com/github/Vishnu1379/Basic-ML/blob/main/python_programming.ipynb\" target=\"_parent\"><img src=\"https://colab.research.google.com/assets/colab-badge.svg\" alt=\"Open In Colab\"/></a>"
      ]
    },
    {
      "cell_type": "code",
      "metadata": {
        "id": "C8o9FhLinKX5"
      },
      "source": [
        "Write a program to check if a year is leap year or not.\n",
        "If a year is divisible by 4 then it is leap year but if the year is century year like 2000, 1900, 2100 then it must be divisible by 40"
      ],
      "execution_count": null,
      "outputs": []
    },
    {
      "cell_type": "code",
      "metadata": {
        "colab": {
          "base_uri": "https://localhost:8080/"
        },
        "id": "ttK1qyshnonT",
        "outputId": "6ffb0c33-d03d-4933-fd49-bb0ec7152352"
      },
      "source": [
        "year =int(input())\n",
        "if (year % 4) == 0:\n",
        "   if (year % 100) == 0:\n",
        "       if (year % 400) == 0:\n",
        "           print(\"{0} is a leap year\".format(year))\n",
        "       else:\n",
        "           print(\"{0} is not a leap year\".format(year))\n",
        "   else:\n",
        "       print(\"{0} is a leap year\".format(year))\n",
        "else:\n",
        "   print(\"{0} is not a leap year\".format(year))"
      ],
      "execution_count": 3,
      "outputs": [
        {
          "output_type": "stream",
          "text": [
            "2000\n",
            "2000 is a leap year\n"
          ],
          "name": "stdout"
        }
      ]
    },
    {
      "cell_type": "markdown",
      "metadata": {
        "id": "i__53zq9oVRu"
      },
      "source": [
        "Take three int values from user and print largest among them."
      ]
    },
    {
      "cell_type": "code",
      "metadata": {
        "colab": {
          "base_uri": "https://localhost:8080/"
        },
        "id": "Wfxmxe2JouPY",
        "outputId": "0d748cca-fbac-4d0a-95fa-4db633eb4acc"
      },
      "source": [
        "num1=int(input())\n",
        "num2=int(input())\n",
        "num3=int(input())\n",
        "if (num1 >= num2) and (num1 >= num3):\n",
        "   largest = num1\n",
        "elif (num2 >= num1) and (num2 >= num3):\n",
        "   largest = num2\n",
        "else:\n",
        "   largest = num3\n",
        "\n",
        "print(\"The largest number is\",largest)"
      ],
      "execution_count": 4,
      "outputs": [
        {
          "output_type": "stream",
          "text": [
            "1\n",
            "2\n",
            "3\n",
            "The largest number is 3\n"
          ],
          "name": "stdout"
        }
      ]
    },
    {
      "cell_type": "markdown",
      "metadata": {
        "id": "NQwwE9mrpO_t"
      },
      "source": [
        "Sum of first n  natural numbers"
      ]
    },
    {
      "cell_type": "code",
      "metadata": {
        "colab": {
          "base_uri": "https://localhost:8080/"
        },
        "id": "vPJQ6xh0pUZu",
        "outputId": "8b5204c7-ada6-4559-f5b1-7c1263a7f525"
      },
      "source": [
        "num = int(input())\n",
        "if num < 0:\n",
        "   print(\"Enter a positive number\")\n",
        "else:\n",
        "   sum = 0\n",
        "   while(num > 0):\n",
        "       sum += num\n",
        "       num -= 1\n",
        "   print(\"The sum is\", sum)"
      ],
      "execution_count": 5,
      "outputs": [
        {
          "output_type": "stream",
          "text": [
            "9\n",
            "The sum is 45\n"
          ],
          "name": "stdout"
        }
      ]
    }
  ]
}